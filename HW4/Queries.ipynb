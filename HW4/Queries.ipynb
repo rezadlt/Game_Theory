{
 "cells": [
  {
   "cell_type": "markdown",
   "metadata": {},
   "source": [
    "## Prepare Environment"
   ]
  },
  {
   "cell_type": "code",
   "execution_count": 14,
   "metadata": {
    "scrolled": true
   },
   "outputs": [],
   "source": [
    "# !pip3 install pymongo\n",
    "# !pip3 install mongoengine\n",
    "# !pip3 install Faker\n",
    "# !pip3 install mongomock"
   ]
  },
  {
   "cell_type": "code",
   "execution_count": 15,
   "metadata": {},
   "outputs": [],
   "source": [
    "# %load_ext nb_black\n",
    "# %load_ext autoreload\n",
    "# %autoreload 2"
   ]
  },
  {
   "cell_type": "code",
   "execution_count": 16,
   "metadata": {},
   "outputs": [],
   "source": [
    "# Prepare environment for importing from src\n",
    "import sys\n",
    "import os\n",
    "\n",
    "sys.path.insert(0, \"..\")"
   ]
  },
  {
   "cell_type": "markdown",
   "metadata": {},
   "source": [
    "## Import Dependencies "
   ]
  },
  {
   "cell_type": "code",
   "execution_count": 17,
   "metadata": {},
   "outputs": [
    {
     "ename": "ModuleNotFoundError",
     "evalue": "No module named 'src'",
     "output_type": "error",
     "traceback": [
      "\u001b[0;31m---------------------------------------------------------------------------\u001b[0m",
      "\u001b[0;31mModuleNotFoundError\u001b[0m                       Traceback (most recent call last)",
      "\u001b[0;32m<ipython-input-17-2ae621d9bf8e>\u001b[0m in \u001b[0;36m<module>\u001b[0;34m\u001b[0m\n\u001b[1;32m      4\u001b[0m \u001b[0;32mfrom\u001b[0m \u001b[0mmongoengine\u001b[0m \u001b[0;32mimport\u001b[0m \u001b[0mconnect\u001b[0m\u001b[0;34m,\u001b[0m \u001b[0mget_connection\u001b[0m\u001b[0;34m\u001b[0m\u001b[0;34m\u001b[0m\u001b[0m\n\u001b[1;32m      5\u001b[0m \u001b[0;34m\u001b[0m\u001b[0m\n\u001b[0;32m----> 6\u001b[0;31m \u001b[0;32mfrom\u001b[0m \u001b[0msrc\u001b[0m\u001b[0;34m.\u001b[0m\u001b[0mdata\u001b[0m \u001b[0;32mimport\u001b[0m \u001b[0minitialize_db\u001b[0m\u001b[0;34m\u001b[0m\u001b[0;34m\u001b[0m\u001b[0m\n\u001b[0m\u001b[1;32m      7\u001b[0m \u001b[0;32mfrom\u001b[0m \u001b[0msrc\u001b[0m\u001b[0;34m.\u001b[0m\u001b[0mutils\u001b[0m \u001b[0;32mimport\u001b[0m \u001b[0mdrop_db\u001b[0m\u001b[0;34m\u001b[0m\u001b[0;34m\u001b[0m\u001b[0m\n",
      "\u001b[0;31mModuleNotFoundError\u001b[0m: No module named 'src'"
     ]
    }
   ],
   "source": [
    "import random\n",
    "import datetime\n",
    "\n",
    "from mongoengine import connect, get_connection\n",
    "\n",
    "from src.data import initialize_db\n",
    "from src.utils import drop_db"
   ]
  },
  {
   "cell_type": "markdown",
   "metadata": {},
   "source": [
    "## Connect to Mock DB"
   ]
  },
  {
   "cell_type": "code",
   "execution_count": null,
   "metadata": {},
   "outputs": [],
   "source": [
    "from pymongo import MongoClient\n",
    "\n",
    "client = connect(\"assignment\", host=\"mongodb://127.0.0.1:27017\")"
   ]
  },
  {
   "cell_type": "code",
   "execution_count": null,
   "metadata": {},
   "outputs": [],
   "source": [
    "if not os.environ.get(\"TEST\"):\n",
    "    drop_db(client, \"assignment\")"
   ]
  },
  {
   "cell_type": "markdown",
   "metadata": {},
   "source": [
    "## Generate Fake Data & Insert Them to DB"
   ]
  },
  {
   "cell_type": "code",
   "execution_count": null,
   "metadata": {},
   "outputs": [],
   "source": [
    "if not os.environ.get(\"TEST\"):\n",
    "    initialize_db()"
   ]
  },
  {
   "cell_type": "code",
   "execution_count": null,
   "metadata": {},
   "outputs": [],
   "source": [
    "print(client.assignment.list_collection_names())\n",
    "print(client.assignment.patient.find_one())"
   ]
  },
  {
   "cell_type": "markdown",
   "metadata": {},
   "source": [
    "## Examples"
   ]
  },
  {
   "cell_type": "code",
   "execution_count": null,
   "metadata": {},
   "outputs": [],
   "source": [
    "print(client.assignment.drug.find_one({\"formula\": \"CH3COOH\"}))"
   ]
  },
  {
   "cell_type": "code",
   "execution_count": null,
   "metadata": {},
   "outputs": [],
   "source": []
  },
  {
   "cell_type": "code",
   "execution_count": null,
   "metadata": {
    "scrolled": true
   },
   "outputs": [],
   "source": [
    "list(\n",
    "    client.assignment.drug.aggregate(\n",
    "        [{\"$group\": {\"_id\": \"$formula\", \"count\": {\"$sum\": 1}}}]\n",
    "    )\n",
    ")"
   ]
  },
  {
   "cell_type": "code",
   "execution_count": null,
   "metadata": {},
   "outputs": [],
   "source": []
  },
  {
   "cell_type": "code",
   "execution_count": null,
   "metadata": {},
   "outputs": [],
   "source": [
    "client.assignment.patient.aggregate(\n",
    "    [\n",
    "        {\n",
    "            \"$lookup\": {\n",
    "                \"from\": \"doctor\",\n",
    "                \"localField\": \"doctor_id\",\n",
    "                \"foreignField\": \"_id\",\n",
    "                \"as\": \"doctor\",\n",
    "            }\n",
    "        },\n",
    "        {\"$match\": {\"doctor.first_name\": \"Robert\"}},\n",
    "        {\"$count\": \"patients\"},\n",
    "    ]\n",
    ").next()"
   ]
  },
  {
   "cell_type": "code",
   "execution_count": null,
   "metadata": {},
   "outputs": [],
   "source": []
  },
  {
   "cell_type": "markdown",
   "metadata": {},
   "source": [
    "## Query Assignments"
   ]
  },
  {
   "cell_type": "code",
   "execution_count": null,
   "metadata": {
    "scrolled": true
   },
   "outputs": [],
   "source": [
    "# نام داروخانه‌هایی که شماره تلفن آنها با 1+ شروع می‌شود\n",
    "print(\"##1##\")\n",
    "a1 = list(\n",
    "    client.assignment.pharmacy.find(\n",
    "        filter={'telephone':{'$regex': '\\+1*'}},  # Complete the filter\n",
    "        projection={\"name\": 1, \"_id\": 0},\n",
    "    )\n",
    ")\n",
    "print(a1)"
   ]
  },
  {
   "cell_type": "code",
   "execution_count": null,
   "metadata": {},
   "outputs": [],
   "source": []
  },
  {
   "cell_type": "code",
   "execution_count": null,
   "metadata": {},
   "outputs": [],
   "source": [
    "#   متولد شده‌اند datetime.datetime(2000, 1, 1, 0, 0) شماره ملی افرادی که بعد از تاریخ \n",
    "print(\"##2##\")\n",
    "a2 = list(\n",
    "    client.assignment.patient.find(\n",
    "        filter={\"birthdate\" : {'$gt' : datetime.datetime(2000, 1, 1, 0, 0)}},  # Complete the filter\n",
    "        projection={\"national_id\": 1, \"_id\": 0},\n",
    "    )\n",
    ")\n",
    "print(a2)"
   ]
  },
  {
   "cell_type": "code",
   "execution_count": null,
   "metadata": {},
   "outputs": [],
   "source": []
  },
  {
   "cell_type": "code",
   "execution_count": null,
   "metadata": {},
   "outputs": [],
   "source": [
    "# تعداد نسخه هایی که دارای حداقل 15 دارو هستند\n",
    "print(\"##3##\")\n",
    "a3 = client.assignment.prescription.find(\n",
    "    filter={'items': {'$exists': True}, '$where':'this.items.length > 15'}  # Complete the filter\n",
    ").count()\n",
    "print(a3)"
   ]
  },
  {
   "cell_type": "code",
   "execution_count": null,
   "metadata": {},
   "outputs": [],
   "source": []
  },
  {
   "cell_type": "code",
   "execution_count": null,
   "metadata": {},
   "outputs": [],
   "source": [
    "#    است \"Robert\" کد ملی بیمارانی که اسم پزشک آنها\n",
    "print(\"##4##\")\n",
    "a4 = list(\n",
    "    client.assignment.patient.aggregate(\n",
    "        [          \n",
    "            {\n",
    "                \"$lookup\": {\n",
    "                    \"from\": \"doctor\",\n",
    "                    \"localField\": \"doctor_id\",\n",
    "                    \"foreignField\": \"_id\",\n",
    "                    \"as\": \"doctor\",\n",
    "                }\n",
    "            },\n",
    "            {\"$match\": {\"doctor.first_name\": \"Robert\"}},\n",
    "            {'$project': {'_id': 0, 'national_id': 1}}\n",
    "        ]\n",
    "    )\n",
    ")\n",
    "print(a4)"
   ]
  },
  {
   "cell_type": "code",
   "execution_count": null,
   "metadata": {},
   "outputs": [],
   "source": []
  },
  {
   "cell_type": "code",
   "execution_count": null,
   "metadata": {},
   "outputs": [],
   "source": [
    "#    نام داروخانه‌ای که دارویی به گرانترین قیمت به آن فروخته‌شده است\n",
    "print(\"##5##\")\n",
    "a5 = client.assignment.sale.aggregate(\n",
    "    [  \n",
    "        {\n",
    "            '$sort': {'price': -1}\n",
    "        },\n",
    "        {\n",
    "            '$lookup': {\n",
    "                'from': 'pharmacy',\n",
    "                'localField': 'pharmacy_id',\n",
    "                'foreignField': '_id',\n",
    "                'as': 'pharmacy'\n",
    "            }\n",
    "        },\n",
    "        {\n",
    "            '$unwind': '$pharmacy'\n",
    "        },\n",
    "        {\n",
    "            '$replaceRoot': {'newRoot': '$pharmacy'}\n",
    "        },\n",
    "        {\n",
    "            '$project': {\n",
    "                '_id': 0,\n",
    "                'name': 1\n",
    "            }\n",
    "        }\n",
    "    ]\n",
    ").next()\n",
    "print(a5)"
   ]
  },
  {
   "cell_type": "code",
   "execution_count": null,
   "metadata": {},
   "outputs": [],
   "source": []
  },
  {
   "cell_type": "code",
   "execution_count": null,
   "metadata": {},
   "outputs": [],
   "source": [
    "#   نام و فرمول پنج دارویی که گران ترین قیمت برای آنها ثبت شده است  \n",
    "print(\"##6##\")\n",
    "a6 = list(\n",
    "    client.assignment.sale.aggregate(\n",
    "        [\n",
    "            {\n",
    "                '$sort': {'price': -1}\n",
    "            },\n",
    "            {\n",
    "                '$lookup': {\n",
    "                    'from': 'drug',\n",
    "                    'localField': 'drug_id',\n",
    "                    'foreignField': '_id',\n",
    "                    'as': 'drug'\n",
    "                }\n",
    "            },\n",
    "            {\n",
    "                '$unwind': '$drug'\n",
    "            },\n",
    "            {\n",
    "                '$replaceRoot': {'newRoot': '$drug'}\n",
    "            },\n",
    "            {\n",
    "                '$project': {\n",
    "                    '_id': 0,\n",
    "                    'name': 1,\n",
    "                    'formula': 1\n",
    "                }\n",
    "            },\n",
    "            {   '$limit' : 5 }\n",
    "        ]\n",
    "    )\n",
    ")\n",
    "print(a6)"
   ]
  },
  {
   "cell_type": "code",
   "execution_count": null,
   "metadata": {},
   "outputs": [],
   "source": []
  },
  {
   "cell_type": "code",
   "execution_count": null,
   "metadata": {},
   "outputs": [],
   "source": [
    "#   تجویز شده اند datetime.datetime(2020, 9, 23, 0, 0) نام تمام داروهایی که در تاریخ \n",
    "print(\"##7##\")\n",
    "a7 = list(\n",
    "    client.assignment.prescription.aggregate(\n",
    "        [\n",
    "            {\n",
    "                '$match': {'date': datetime.datetime(2020, 9, 23, 0, 0)}\n",
    "            },\n",
    "            {\n",
    "                '$lookup': {\n",
    "                    'from': 'drug',\n",
    "                    'localField': 'items.drug_id',\n",
    "                    'foreignField': '_id',\n",
    "                    'as': 'drug'\n",
    "                }\n",
    "            },\n",
    "            {\n",
    "                '$unwind': '$drug'\n",
    "            },\n",
    "            {\n",
    "                '$replaceRoot': {'newRoot': '$drug'}\n",
    "            },\n",
    "            {\n",
    "                '$project': {\n",
    "                    '_id': 0,\n",
    "                    'name': 1,\n",
    "                }\n",
    "            },\n",
    "        ]\n",
    "    )\n",
    ")\n",
    "print(a7)"
   ]
  },
  {
   "cell_type": "code",
   "execution_count": null,
   "metadata": {},
   "outputs": [],
   "source": []
  },
  {
   "cell_type": "code",
   "execution_count": null,
   "metadata": {},
   "outputs": [],
   "source": [
    "#    را تولید می کنند \"C2H6Na4O12\" نام تمام کارخانه هایی که داروی با فرمول \n",
    "print(\"##8##\")\n",
    "a8 = list(\n",
    "    client.assignment.drug.aggregate(\n",
    "        [\n",
    "            {\n",
    "                '$match': {'formula': 'C2H6Na4O12'}\n",
    "            },\n",
    "            {\n",
    "                '$lookup': {\n",
    "                    'from': 'company',\n",
    "                    'localField': 'company_id',\n",
    "                    'foreignField': '_id',\n",
    "                    'as': 'company'\n",
    "                }\n",
    "            },\n",
    "            {\n",
    "                '$unwind': '$company'\n",
    "            },\n",
    "            {\n",
    "                '$replaceRoot': {'newRoot': '$company'}\n",
    "            },\n",
    "            {\n",
    "                '$project': {\n",
    "                    '_id': 0,\n",
    "                    'name': 1,\n",
    "                }\n",
    "            }\n",
    "        ]\n",
    "    )\n",
    ")\n",
    "print(a8)"
   ]
  },
  {
   "cell_type": "code",
   "execution_count": null,
   "metadata": {},
   "outputs": [],
   "source": []
  },
  {
   "cell_type": "code",
   "execution_count": null,
   "metadata": {},
   "outputs": [],
   "source": [
    "#   وجود دارد BasketItem کاربرانی که در سبد آنها حداقل ده \n",
    "print(\"##9##\")\n",
    "a9 = list(\n",
    "    client.assignment.user.find(\n",
    "        filter={'basket': {'$size'< 10}},  # Complete the filter\n",
    "        projection={\"email\": 1, \"_id\": 0},\n",
    "    )\n",
    ")\n",
    "print(a9)"
   ]
  },
  {
   "cell_type": "code",
   "execution_count": null,
   "metadata": {},
   "outputs": [],
   "source": []
  },
  {
   "cell_type": "code",
   "execution_count": null,
   "metadata": {},
   "outputs": [],
   "source": [
    "#   هستند \"XL\" اجناس که سایز (sum quantity)میزان موجودی\n",
    "print(\"##10##\")\n",
    "a10 = client.assignment.product_item.aggregate(\n",
    "    [\n",
    "        { \n",
    "            '$match': {'size': 'XL'}\n",
    "        },\n",
    "        {\n",
    "            '$group': {'_id': None, 'sum': {'$sum': '$quantity'} }\n",
    "        },\n",
    "        {\n",
    "            '$project': {'_id': 0}\n",
    "        }\n",
    "    ]\n",
    ").next()\n",
    "print(a10)"
   ]
  },
  {
   "cell_type": "code",
   "execution_count": null,
   "metadata": {},
   "outputs": [],
   "source": []
  },
  {
   "cell_type": "code",
   "execution_count": null,
   "metadata": {},
   "outputs": [],
   "source": [
    "#  شماره ملی رانندگانی که پلاک آنها به 25 ختم می شود  \n",
    "print(\"##11##\")\n",
    "a11 = list(\n",
    "    client.assignment.driver.find(\n",
    "        filter={'license_plate': {'$regex': '.+25$'}},  # Complete the filter\n",
    "        projection={\"_id\": 0, \"national_id\": 1},\n",
    "    )\n",
    ")\n",
    "print(a11)"
   ]
  },
  {
   "cell_type": "code",
   "execution_count": null,
   "metadata": {},
   "outputs": [],
   "source": []
  },
  {
   "cell_type": "code",
   "execution_count": null,
   "metadata": {
    "scrolled": true
   },
   "outputs": [],
   "source": [
    "# در آن وجود دارد \"great\" و یا \"good\" متن کامنت هایی که کلمه \n",
    "\n",
    "print(\"##12##\")\n",
    "a12 = list(\n",
    "    client.assignment.comment.find(\n",
    "        filter={'text': {'$regex': '.*(good|great).*'}},\n",
    "        projection={\"_id\": 0, \"text\": 1},\n",
    "    )\n",
    ")\n",
    "print(a12)"
   ]
  },
  {
   "cell_type": "code",
   "execution_count": null,
   "metadata": {},
   "outputs": [],
   "source": []
  },
  {
   "cell_type": "code",
   "execution_count": null,
   "metadata": {},
   "outputs": [],
   "source": [
    "# تعداد نظراتی که ریتینگ آن‌ها 5 است\n",
    "print(\"##13##\")\n",
    "a13 = client.assignment.comment.aggregate(\n",
    "    [\n",
    "        { \"$match\": {\n",
    "                \"rating\": 5\n",
    "            }\n",
    "        },\n",
    "        {\n",
    "            \"$count\": \"count\"\n",
    "        }\n",
    "    ]\n",
    ").next()\n",
    "print(a13)"
   ]
  },
  {
   "cell_type": "code",
   "execution_count": null,
   "metadata": {},
   "outputs": [],
   "source": []
  },
  {
   "cell_type": "code",
   "execution_count": null,
   "metadata": {},
   "outputs": [],
   "source": [
    "answers = {\n",
    "    \"a1\": a1,\n",
    "    \"a2\": a2,\n",
    "    \"a3\": a3,\n",
    "    \"a4\": a4,\n",
    "    \"a5\": a5,\n",
    "    \"a6\": a6,\n",
    "    \"a7\": a7,\n",
    "    \"a8\": a8,\n",
    "    \"a9\": a9,\n",
    "    \"a10\": a10,\n",
    "    \"a11\": a11,\n",
    "    \"a12\": a12,\n",
    "    \"a13\": a13,\n",
    "}"
   ]
  },
  {
   "cell_type": "code",
   "execution_count": null,
   "metadata": {},
   "outputs": [],
   "source": [
    "import json\n",
    "with open(\"answers.json\", \"r\") as json_file:\n",
    "    target = json.load(json_file)"
   ]
  },
  {
   "cell_type": "code",
   "execution_count": null,
   "metadata": {},
   "outputs": [],
   "source": [
    "correct = 0\n",
    "for i in range(1, 14):\n",
    "    if answers[\"a{}\".format(i)] == target[\"a{}\".format(i)]:\n",
    "        print(\"Query {:2d} Correct!\".format(i))\n",
    "        correct += 1\n",
    "    else:\n",
    "        print(\"Query {:2d} Wrong!\".format(i))\n",
    "print(correct)"
   ]
  },
  {
   "cell_type": "markdown",
   "metadata": {},
   "source": [
    "## Print Result to File  "
   ]
  },
  {
   "cell_type": "code",
   "execution_count": null,
   "metadata": {},
   "outputs": [],
   "source": [
    "# Set your student number\n",
    "student_number = 97110411\n",
    "file_path = os.path.join(\n",
    "    os.getenv(\"OUTPUT_DIR\", \".\"), \"{}.json\".format(student_number)\n",
    ")\n",
    "with open(file_path, \"w\") as file:\n",
    "    corrects = []\n",
    "    wrongs = []\n",
    "    for i in range(1, 14):\n",
    "        if answers[\"a{}\".format(i)] == target[\"a{}\".format(i)]:\n",
    "            corrects.append(i)\n",
    "        else:\n",
    "            wrongs.append(i)\n",
    "    json.dump({\"corrects\": corrects, \"wrongs\": wrongs, \"score\": len(corrects)}, file)"
   ]
  },
  {
   "cell_type": "code",
   "execution_count": null,
   "metadata": {},
   "outputs": [],
   "source": []
  }
 ],
 "metadata": {
  "kernelspec": {
   "display_name": "Python 3",
   "language": "python",
   "name": "python3"
  },
  "language_info": {
   "codemirror_mode": {
    "name": "ipython",
    "version": 3
   },
   "file_extension": ".py",
   "mimetype": "text/x-python",
   "name": "python",
   "nbconvert_exporter": "python",
   "pygments_lexer": "ipython3",
   "version": "3.8.5"
  }
 },
 "nbformat": 4,
 "nbformat_minor": 4
}
